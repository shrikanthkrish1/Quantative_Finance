{
 "cells": [
  {
   "cell_type": "code",
   "execution_count": 1,
   "id": "1e2d386a",
   "metadata": {},
   "outputs": [],
   "source": [
    "import numpy as np\n",
    "\n",
    "from functools import wraps\n",
    "from time import time\n",
    "\n",
    "def timing(f):\n",
    "    @wraps(f)\n",
    "    def wrap(*args, **kw):\n",
    "        ts = time()\n",
    "        result = f(*args, **kw)\n",
    "        te = time()\n",
    "        print('func:%r args:[%r, %r] took: %2.4f sec' % \\\n",
    "          (f.__name__, args, kw, te-ts))\n",
    "        return result\n",
    "    return wrap"
   ]
  },
  {
   "cell_type": "code",
   "execution_count": 2,
   "id": "aa03e76d",
   "metadata": {},
   "outputs": [],
   "source": [
    "# Initialise parameters\n",
    "S0 = 100      # initial stock price\n",
    "K = 100       # strike price\n",
    "T = 1         # time to maturity in years\n",
    "r = 0.06      # annual risk-free rate\n",
    "N = 3         # number of time steps\n",
    "u = 1.1       # up-factor in binomial models\n",
    "d = 1/u       # ensure recombining tree\n",
    "opttype = 'C' # Option Type 'C' or 'P'"
   ]
  },
  {
   "cell_type": "code",
   "execution_count": 3,
   "id": "ac6bebf5",
   "metadata": {},
   "outputs": [
    {
     "name": "stdout",
     "output_type": "stream",
     "text": [
      "func:'binomial_tree_slow' args:[(100, 1, 100, 0.06, 3, 1.1, 0.9090909090909091), {'opttype': 'C'}] took: 0.0000 sec\n"
     ]
    },
    {
     "data": {
      "text/plain": [
       "10.145735799928817"
      ]
     },
     "execution_count": 3,
     "metadata": {},
     "output_type": "execute_result"
    }
   ],
   "source": [
    "@timing\n",
    "def binomial_tree_slow(K,T,S0,r,N,u,d,opttype='C'):\n",
    "    #precompute constants\n",
    "    dt = T/N\n",
    "    q = (np.exp(r*dt) - d) / (u-d)\n",
    "    disc = np.exp(-r*dt)\n",
    "\n",
    "    # initialise asset prices at maturity - Time step N\n",
    "    S = np.zeros(N+1)\n",
    "    S[0] = S0*d**N\n",
    "    for j in range(1,N+1):\n",
    "        S[j] = S[j-1]*u/d\n",
    "\n",
    "    # initialise option values at maturity\n",
    "    C = np.zeros(N+1)\n",
    "    for j in range(0,N+1):\n",
    "        C[j] = max(0, S[j]-K)\n",
    "\n",
    "    # step backwards through tree\n",
    "    for i in np.arange(N,0,-1):\n",
    "        for j in range(0,i):\n",
    "            C[j] = disc * ( q*C[j+1] + (1-q)*C[j] )\n",
    "\n",
    "    return C[0]\n",
    "\n",
    "binomial_tree_slow(K,T,S0,r,N,u,d,opttype='C')"
   ]
  },
  {
   "cell_type": "code",
   "execution_count": 4,
   "id": "b68e64b4",
   "metadata": {},
   "outputs": [
    {
     "name": "stdout",
     "output_type": "stream",
     "text": [
      "func:'binomial_tree_fast' args:[(100, 1, 100, 0.06, 3, 1.1, 0.9090909090909091), {'opttype': 'C'}] took: 0.0000 sec\n"
     ]
    },
    {
     "data": {
      "text/plain": [
       "10.145735799928826"
      ]
     },
     "execution_count": 4,
     "metadata": {},
     "output_type": "execute_result"
    }
   ],
   "source": [
    "@timing\n",
    "def binomial_tree_fast(K,T,S0,r,N,u,d,opttype='C'):\n",
    "    #precompute constants\n",
    "    dt = T/N\n",
    "    q = (np.exp(r*dt) - d) / (u-d)\n",
    "    disc = np.exp(-r*dt)\n",
    "\n",
    "    # initialise asset prices at maturity - Time step N\n",
    "    C = S0 * d ** (np.arange(N,-1,-1)) * u ** (np.arange(0,N+1,1))\n",
    "\n",
    "    # initialise option values at maturity\n",
    "    C = np.maximum( C - K , np.zeros(N+1) )\n",
    "\n",
    "    # step backwards through tree\n",
    "    for i in np.arange(N,0,-1):\n",
    "        C = disc * ( q * C[1:i+1] + (1-q) * C[0:i] )\n",
    "\n",
    "    return C[0]\n",
    "\n",
    "binomial_tree_fast(K,T,S0,r,N,u,d,opttype='C')"
   ]
  },
  {
   "cell_type": "code",
   "execution_count": 5,
   "id": "90730ac1",
   "metadata": {},
   "outputs": [
    {
     "name": "stdout",
     "output_type": "stream",
     "text": [
      "func:'binomial_tree_slow' args:[(100, 1, 100, 0.06, 3, 1.1, 0.9090909090909091), {'opttype': 'C'}] took: 0.0000 sec\n",
      "func:'binomial_tree_fast' args:[(100, 1, 100, 0.06, 3, 1.1, 0.9090909090909091), {'opttype': 'C'}] took: 0.0000 sec\n",
      "func:'binomial_tree_slow' args:[(100, 1, 100, 0.06, 50, 1.1, 0.9090909090909091), {'opttype': 'C'}] took: 0.0012 sec\n",
      "func:'binomial_tree_fast' args:[(100, 1, 100, 0.06, 50, 1.1, 0.9090909090909091), {'opttype': 'C'}] took: 0.0000 sec\n",
      "func:'binomial_tree_slow' args:[(100, 1, 100, 0.06, 100, 1.1, 0.9090909090909091), {'opttype': 'C'}] took: 0.0020 sec\n",
      "func:'binomial_tree_fast' args:[(100, 1, 100, 0.06, 100, 1.1, 0.9090909090909091), {'opttype': 'C'}] took: 0.0015 sec\n",
      "func:'binomial_tree_slow' args:[(100, 1, 100, 0.06, 1000, 1.1, 0.9090909090909091), {'opttype': 'C'}] took: 0.2231 sec\n",
      "func:'binomial_tree_fast' args:[(100, 1, 100, 0.06, 1000, 1.1, 0.9090909090909091), {'opttype': 'C'}] took: 0.0069 sec\n",
      "func:'binomial_tree_slow' args:[(100, 1, 100, 0.06, 5000, 1.1, 0.9090909090909091), {'opttype': 'C'}] took: 5.7986 sec\n",
      "func:'binomial_tree_fast' args:[(100, 1, 100, 0.06, 5000, 1.1, 0.9090909090909091), {'opttype': 'C'}] took: 0.0369 sec\n"
     ]
    }
   ],
   "source": [
    "\n",
    "for N in [3,50, 100, 1000, 5000]:\n",
    "    binomial_tree_slow(K,T,S0,r,N,u,d,opttype='C')\n",
    "    binomial_tree_fast(K,T,S0,r,N,u,d,opttype='C')"
   ]
  },
  {
   "cell_type": "code",
   "execution_count": null,
   "id": "37d1736d",
   "metadata": {},
   "outputs": [],
   "source": []
  }
 ],
 "metadata": {
  "kernelspec": {
   "display_name": "Python 3 (ipykernel)",
   "language": "python",
   "name": "python3"
  },
  "language_info": {
   "codemirror_mode": {
    "name": "ipython",
    "version": 3
   },
   "file_extension": ".py",
   "mimetype": "text/x-python",
   "name": "python",
   "nbconvert_exporter": "python",
   "pygments_lexer": "ipython3",
   "version": "3.11.5"
  }
 },
 "nbformat": 4,
 "nbformat_minor": 5
}
