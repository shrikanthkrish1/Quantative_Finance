{
 "cells": [
  {
   "cell_type": "code",
   "execution_count": 2,
   "id": "65059827",
   "metadata": {},
   "outputs": [
    {
     "name": "stderr",
     "output_type": "stream",
     "text": [
      "C:\\Users\\bismark\\Anaconda3 2\\Lib\\site-packages\\py_lets_be_rational\\numba_helper.py:10: NumbaDeprecationWarning: \u001b[1mThe 'nopython' keyword argument was not supplied to the 'numba.jit' decorator. The implicit default value for this argument is currently False, but it will be changed to True in Numba 0.59.0. See https://numba.readthedocs.io/en/stable/reference/deprecation.html#deprecation-of-object-mode-fall-back-behaviour-when-using-jit for details.\u001b[0m\n",
      "  return jit(*jit_args, **jit_kwargs)(fun)\n"
     ]
    }
   ],
   "source": [
    "import math\n",
    "import numpy as np\n",
    "import pandas as pd\n",
    "import datetime\n",
    "import scipy.stats as stats\n",
    "import matplotlib.pyplot as plt\n",
    "from py_vollib.black_scholes.implied_volatility import implied_volatility as iv\n",
    "from py_vollib.black_scholes import black_scholes as bs\n",
    "from py_vollib.black_scholes.greeks.analytical import vega, delta"
   ]
  },
  {
   "cell_type": "code",
   "execution_count": 3,
   "id": "8fdea655",
   "metadata": {},
   "outputs": [
    {
     "name": "stdout",
     "output_type": "stream",
     "text": [
      "0.1643835616438356\n"
     ]
    }
   ],
   "source": [
    "# initial derivative parameters\n",
    "S = 101.15          #stock price\n",
    "K = 98.01           #strike price\n",
    "vol = 0.0991        #volatility (%)\n",
    "r = 0.015            #risk-free rate (%)\n",
    "N = 10              #number of time steps\n",
    "M = 1000            #number of simulations\n",
    "\n",
    "market_value = 3.86 #market price of option\n",
    "T = ((datetime.date(2022,3,17)-datetime.date(2022,1,17)).days+1)/365    #time in years\n",
    "print(T)"
   ]
  },
  {
   "cell_type": "code",
   "execution_count": 4,
   "id": "7bc66e32",
   "metadata": {},
   "outputs": [
    {
     "name": "stdout",
     "output_type": "stream",
     "text": [
      "Call value is $3.83 with SE +/- 0.01\n"
     ]
    }
   ],
   "source": [
    "\n",
    "# Precompute constants\n",
    "N = 10\n",
    "dt = T/N\n",
    "nudt = (r - 0.5*vol**2)*dt\n",
    "volsdt = vol*np.sqrt(dt)\n",
    "erdt = np.exp(r*dt)\n",
    "\n",
    "beta1 = -1\n",
    "\n",
    "# Standard Error Placeholders\n",
    "sum_CT = 0\n",
    "sum_CT2 = 0\n",
    "\n",
    "# Monte Carlo Method\n",
    "for i in range(M):\n",
    "    St = S\n",
    "    cv = 0\n",
    "    for j in range(N):\n",
    "        epsilon = np.random.normal()\n",
    "        deltaSt = delta('c', St, K, T-j*dt, r, vol)\n",
    "        Stn = St*np.exp( nudt + volsdt*epsilon )\n",
    "        cv = cv + deltaSt*(Stn - St*erdt)\n",
    "        St = Stn\n",
    "\n",
    "    CT = max(0, St - K) + beta1*cv\n",
    "    sum_CT = sum_CT + CT\n",
    "    sum_CT2 = sum_CT2 + CT*CT\n",
    "\n",
    "# Compute Expectation and SE\n",
    "C0 = np.exp(-r*T)*sum_CT/M\n",
    "sigma = np.sqrt( (sum_CT2 - sum_CT*sum_CT/M)*np.exp(-2*r*T) / (M-1) )\n",
    "SE = sigma/np.sqrt(M)\n",
    "\n",
    "print(\"Call value is ${0} with SE +/- {1}\".format(np.round(C0,2),np.round(SE,3)))"
   ]
  },
  {
   "cell_type": "code",
   "execution_count": 6,
   "id": "1e36c50f",
   "metadata": {},
   "outputs": [],
   "source": [
    "def delta_calc(r, S, K, T, sigma, type=\"c\"):\n",
    "    \"Calculate delta of an option\"\n",
    "    d1 = (np.log(S/K) + (r + sigma**2/2)*T)/(sigma*np.sqrt(T))\n",
    "    try:\n",
    "        if type == \"c\":\n",
    "            delta_calc = stats.norm.cdf(d1, 0, 1)\n",
    "        elif type == \"p\":\n",
    "            delta_calc = -stats.norm.cdf(-d1, 0, 1)\n",
    "        return delta_calc\n",
    "    except:\n",
    "        print(\"Please confirm option type, either 'c' for Call or 'p' for Put!\")"
   ]
  },
  {
   "cell_type": "code",
   "execution_count": 7,
   "id": "1a6a6898",
   "metadata": {},
   "outputs": [
    {
     "name": "stdout",
     "output_type": "stream",
     "text": [
      "Call value is $3.86 with SE +/- 0.031\n"
     ]
    }
   ],
   "source": [
    "\n",
    "#precompute constants\n",
    "N = 1\n",
    "dt = T/N\n",
    "nudt = (r - 0.5*vol**2)*dt\n",
    "volsdt = vol*np.sqrt(dt)\n",
    "\n",
    "erdt = np.exp(r*dt)\n",
    "cv = 0\n",
    "beta1 = -1\n",
    "\n",
    "# Monte Carlo Method\n",
    "Z = np.random.normal(size=(N, M))\n",
    "delta_St = nudt + volsdt*Z\n",
    "ST = S*np.cumprod( np.exp(delta_St), axis=0)\n",
    "ST = np.concatenate( (np.full(shape=(1, M), fill_value=S), ST ) )\n",
    "deltaSt = delta_calc(r, ST[:-1].T, K, np.linspace(T,0,N), vol, \"c\").T\n",
    "cv = np.cumsum(deltaSt*(ST[1:] - ST[:-1]*erdt), axis=0)\n",
    "\n",
    "\n",
    "CT = np.maximum(0, ST[-1] - K) + beta1*cv[-1]\n",
    "# CT = np.maximum(0, ST[-1] - K)\n",
    "C0 = np.exp(-r*T)*np.sum(CT)/M\n",
    "\n",
    "sigma = np.sqrt( np.sum( (np.exp(-r*T)*CT - C0)**2) / (M-1) )\n",
    "sigma = np.std(np.exp(-r*T)*CT)\n",
    "SE = sigma/np.sqrt(M)\n",
    "\n",
    "print(\"Call value is ${0} with SE +/- {1}\".format(np.round(C0,2),np.round(SE,3)))"
   ]
  },
  {
   "cell_type": "code",
   "execution_count": 8,
   "id": "be7a93b4",
   "metadata": {},
   "outputs": [
    {
     "name": "stdout",
     "output_type": "stream",
     "text": [
      "Call value is $3.81 with SE +/- 0.107\n"
     ]
    }
   ],
   "source": [
    "#precompute constants\n",
    "N = 1\n",
    "dt = T/N\n",
    "nudt = (r - 0.5*vol**2)*dt\n",
    "volsdt = vol*np.sqrt(dt)\n",
    "\n",
    "# Monte Carlo Method\n",
    "Z = np.random.normal(size=(N, M))\n",
    "delta_St = nudt + volsdt*Z\n",
    "ST = S*np.cumprod( np.exp(delta_St), axis=0)\n",
    "\n",
    "CTw = np.maximum(0, ST[-1] - K)\n",
    "C0w = np.exp(-r*T)*np.sum(CTw)/M\n",
    "\n",
    "sigma = np.sqrt( np.sum( (np.exp(-r*T)*CTw - C0w)**2) / (M-1) )\n",
    "SEw = sigma/np.sqrt(M)\n",
    "\n",
    "print(\"Call value is ${0} with SE +/- {1}\".format(np.round(C0w,2),np.round(SEw,3)))"
   ]
  },
  {
   "cell_type": "code",
   "execution_count": 9,
   "id": "cd5df5e5",
   "metadata": {},
   "outputs": [
    {
     "data": {
      "image/png": "[encoded data removed]",
      "text/plain": [
       "<Figure size 640x480 with 1 Axes>"
      ]
     },
     "metadata": {},
     "output_type": "display_data"
    }
   ],
   "source": [
    "x1 = np.linspace(C0-3*SE, C0-1*SE, 100)\n",
    "x2 = np.linspace(C0-1*SE, C0+1*SE, 100)\n",
    "x3 = np.linspace(C0+1*SE, C0+3*SE, 100)\n",
    "xw = np.linspace(C0w-3*SEw, C0w+3*SEw, 100)\n",
    "\n",
    "s1 = stats.norm.pdf(x1, C0, SE)\n",
    "s2 = stats.norm.pdf(x2, C0, SE)\n",
    "s3 = stats.norm.pdf(x3, C0, SE)\n",
    "sw = stats.norm.pdf(xw, C0w, SEw)\n",
    "\n",
    "plt.fill_between(x1, s1, color='tab:blue',label='> StDev')\n",
    "plt.fill_between(x2, s2, color='cornflowerblue',label='1 StDev')\n",
    "plt.fill_between(x3, s3, color='tab:blue')\n",
    "plt.plot(xw, sw, 'g-')\n",
    "plt.fill_between(xw, sw, alpha=0.2, color='tab:green', label='w/o Delta Variate')\n",
    "\n",
    "plt.plot([C0,C0],[0, max(s2)*1.1], 'k',\n",
    "        label='Theoretical Value')\n",
    "plt.plot([C0w,C0w],[0, max(s2)*1.1], color='tab:green',\n",
    "        label='Value w/o Delta Variate')\n",
    "plt.plot([market_value,market_value],[0, max(s2)*1.1], 'r',\n",
    "        label='Market Value')\n",
    "\n",
    "plt.ylabel(\"Probability\")\n",
    "plt.xlabel(\"Option Price\")\n",
    "plt.legend()\n",
    "plt.show()\n"
   ]
  },
  {
   "cell_type": "code",
   "execution_count": null,
   "id": "3b16e346",
   "metadata": {},
   "outputs": [],
   "source": []
  }
 ],
 "metadata": {
  "kernelspec": {
   "display_name": "Python 3 (ipykernel)",
   "language": "python",
   "name": "python3"
  },
  "language_info": {
   "codemirror_mode": {
    "name": "ipython",
    "version": 3
   },
   "file_extension": ".py",
   "mimetype": "text/x-python",
   "name": "python",
   "nbconvert_exporter": "python",
   "pygments_lexer": "ipython3",
   "version": "3.11.5"
  }
 },
 "nbformat": 4,
 "nbformat_minor": 5
}
